{
 "cells": [
  {
   "cell_type": "code",
   "execution_count": 1,
   "metadata": {
    "collapsed": false
   },
   "outputs": [
    {
     "name": "stderr",
     "output_type": "stream",
     "text": [
      "Using TensorFlow backend.\n"
     ]
    }
   ],
   "source": [
    "%matplotlib inline\n",
    "import os,random\n",
    "os.environ[\"KERAS_BACKEND\"] = \"tensorflow\"\n",
    "import numpy as np\n",
    "import theano as th\n",
    "import theano.tensor as T\n",
    "from keras.utils import np_utils\n",
    "import keras.models as models\n",
    "from keras.layers import Input,merge\n",
    "from keras.layers.core import Reshape,Dense,Dropout,Activation,Flatten,MaxoutDense\n",
    "from keras.layers.advanced_activations import LeakyReLU\n",
    "from keras.activations import *\n",
    "from keras.layers.wrappers import TimeDistributed\n",
    "from keras.layers.noise import GaussianNoise\n",
    "from keras.layers.convolutional import Convolution2D, MaxPooling2D, ZeroPadding2D, Deconv2D, UpSampling2D\n",
    "from keras.layers.recurrent import LSTM\n",
    "from keras.regularizers import *\n",
    "from keras.layers.normalization import *\n",
    "from keras.optimizers import *\n",
    "from keras.datasets import mnist\n",
    "import matplotlib.pyplot as plt\n",
    "import seaborn as sns\n",
    "import cPickle, random, sys, keras\n",
    "from keras.models import Model\n",
    "from IPython import display\n",
    "from keras.utils import np_utils\n",
    "import os, sys\n",
    "import glob\n",
    "import cPickle as pkl\n",
    "import numpy as np\n",
    "import PIL.Image as Image\n",
    "from skimage.transform import resize\n",
    "import scipy.misc\n",
    "from keras import backend as K\n",
    "K.set_image_dim_ordering('tf')\n",
    "from keras.layers import Input, Dense, Convolution2D, MaxPooling2D, UpSampling2D\n",
    "from keras.models import Model\n",
    "from keras.utils.visualize_util import plot\n",
    "\n",
    "K.set_image_dim_ordering('tf')"
   ]
  },
  {
   "cell_type": "code",
   "execution_count": 2,
   "metadata": {
    "collapsed": false
   },
   "outputs": [
    {
     "data": {
      "text/plain": [
       "\"\\n\\nimg_rows, img_cols = 28, 28\\n\\n# the data, shuffled and split between train and test sets\\n(X_train, y_train), (X_test, y_test) = mnist.load_data()\\n\\nX_train = X_train.reshape(X_train.shape[0], 1, img_rows, img_cols)\\nX_test = X_test.reshape(X_test.shape[0], 1, img_rows, img_cols)\\nX_train = X_train.astype('float32')\\nX_test = X_test.astype('float32')\\nX_train /= 255\\nX_test /= 255\\n\\nprint np.min(X_train), np.max(X_train)\\n\\nprint('X_train shape:', X_train.shape)\\nprint(X_train.shape[0], 'train samples')\\nprint(X_test.shape[0], 'test samples')\\n\\n\\n\""
      ]
     },
     "execution_count": 2,
     "metadata": {},
     "output_type": "execute_result"
    }
   ],
   "source": [
    "'''\n",
    "\n",
    "img_rows, img_cols = 28, 28\n",
    "\n",
    "# the data, shuffled and split between train and test sets\n",
    "(X_train, y_train), (X_test, y_test) = mnist.load_data()\n",
    "\n",
    "X_train = X_train.reshape(X_train.shape[0], 1, img_rows, img_cols)\n",
    "X_test = X_test.reshape(X_test.shape[0], 1, img_rows, img_cols)\n",
    "X_train = X_train.astype('float32')\n",
    "X_test = X_test.astype('float32')\n",
    "X_train /= 255\n",
    "X_test /= 255\n",
    "\n",
    "print np.min(X_train), np.max(X_train)\n",
    "\n",
    "print('X_train shape:', X_train.shape)\n",
    "print(X_train.shape[0], 'train samples')\n",
    "print(X_test.shape[0], 'test samples')\n",
    "\n",
    "\n",
    "'''"
   ]
  },
  {
   "cell_type": "code",
   "execution_count": 3,
   "metadata": {
    "collapsed": false
   },
   "outputs": [
    {
     "name": "stdout",
     "output_type": "stream",
     "text": [
      "/Users/pulkit/Desktop/yo/\n",
      "/Users/pulkit/Desktop/Deep Learning/Project Code/inpainting/training_pulkit/target\n",
      "creating nd array for input data\n",
      "(100, 64, 64, 3)\n",
      "creating nd array for target data\n",
      "(100, 32, 32, 3)\n"
     ]
    }
   ],
   "source": [
    "#data path for input and target folders\n",
    "\n",
    "data_path_input=\"/Users/pulkit/Desktop/yo/\" #training_pulkit/input\n",
    "print data_path_input\n",
    "imgs_input = glob.glob(data_path_input + \"/*.jpeg\")\n",
    "\n",
    "\n",
    "data_path_target=\"/Users/pulkit/Desktop/Deep Learning/Project Code/inpainting/training_pulkit/target\" #\n",
    "print data_path_target\n",
    "imgs_target = glob.glob(data_path_target + \"/*.jpeg\")\n",
    "\n",
    "# select some images from the input and target dataset\n",
    "\n",
    "batch_idx = 0\n",
    "batch_size = 100\n",
    "\n",
    "batch_imgs_input = imgs_input[batch_idx*batch_size:(batch_idx+1)*batch_size]\n",
    "\n",
    "batch_imgs_target = imgs_target[batch_idx*batch_size:(batch_idx+1)*batch_size]\n",
    "\n",
    "#dataset variables below\n",
    "\n",
    "img_input_x = np.zeros((len(batch_imgs_input),64,64,3)) #batch_imgs_input\n",
    "\n",
    "img_target_y = np.zeros((len(batch_imgs_target),32,32,3)) #batch_imgs_target\n",
    "\n",
    "\n",
    "print \"creating nd array for input data\"\n",
    "#loop over the input images\n",
    "for i, img_path in enumerate(batch_imgs_input): #batch_imgs_input\n",
    "\n",
    "    img1 = Image.open(img_path)\n",
    "    if len(np.array(img1).shape) == 3:\n",
    "        img_input_x[i,:,:,:] = np.array(img1)\n",
    "    else:\n",
    "    \timg_input_x[i,:,:,0] = np.array(img1)\n",
    "    \timg_input_x[i,:,:,1] = np.array(img1)\n",
    "    \timg_input_x[i,:,:,2] = np.array(img1)\n",
    "\n",
    "\n",
    "print(np.shape(img_input_x))\n",
    "\n",
    "print \"creating nd array for target data\"\n",
    "#loop over the target images\n",
    "for i, img_path in enumerate(batch_imgs_target): #batch_imgs_target\n",
    "\n",
    "    img2 = Image.open(img_path)\n",
    "    if len(np.array(img2).shape) == 3:\n",
    "    \timg_target_y[i,:,:,:] = np.array(img2)\n",
    "    else:\n",
    "    \timg_target_y[i,:,:,0] = np.array(img2)\n",
    "    \timg_target_y[i,:,:,1] = np.array(img2)\n",
    "    \timg_target_y[i,:,:,2] = np.array(img2)\n",
    "\n",
    "print(np.shape(img_target_y))\n"
   ]
  },
  {
   "cell_type": "code",
   "execution_count": 4,
   "metadata": {
    "collapsed": false
   },
   "outputs": [
    {
     "name": "stdout",
     "output_type": "stream",
     "text": [
      "(100, 64, 64, 3)\n",
      "(100, 32, 32, 3)\n"
     ]
    }
   ],
   "source": [
    "#prepare the data for train\n",
    "\n",
    "a = img_input_x.astype('float32') / 255.\n",
    "b = img_target_y.astype('float32') / 255.\n",
    "\n",
    "\n",
    "X_train = a\n",
    "Y_train = b\n",
    "\n",
    "print X_train.shape\n",
    "print Y_train.shape\n",
    "\n"
   ]
  },
  {
   "cell_type": "code",
   "execution_count": 5,
   "metadata": {
    "collapsed": false
   },
   "outputs": [],
   "source": [
    "def make_trainable(net, val):\n",
    "    net.trainable = val\n",
    "    for l in net.layers:\n",
    "        l.trainable = val"
   ]
  },
  {
   "cell_type": "code",
   "execution_count": 6,
   "metadata": {
    "collapsed": false,
    "scrolled": false
   },
   "outputs": [
    {
     "name": "stdout",
     "output_type": "stream",
     "text": [
      "(64, 64, 3)\n",
      "____________________________________________________________________________________________________\n",
      "Layer (type)                     Output Shape          Param #     Connected to                     \n",
      "====================================================================================================\n",
      "input_1 (InputLayer)             (None, 12288)         0                                            \n",
      "____________________________________________________________________________________________________\n",
      "dense_2 (Dense)                  (None, 51200)         629196800   input_1[0][0]                    \n",
      "____________________________________________________________________________________________________\n",
      "batchnormalization_1 (BatchNorma (None, 51200)         102400      dense_2[0][0]                    \n",
      "____________________________________________________________________________________________________\n",
      "activation_1 (Activation)        (None, 51200)         0           batchnormalization_1[0][0]       \n",
      "____________________________________________________________________________________________________\n",
      "reshape_1 (Reshape)              (None, 16, 16, 200)   0           activation_1[0][0]               \n",
      "____________________________________________________________________________________________________\n",
      "upsampling2d_1 (UpSampling2D)    (None, 32, 32, 200)   0           reshape_1[0][0]                  \n",
      "____________________________________________________________________________________________________\n",
      "convolution2d_1 (Convolution2D)  (None, 32, 32, 3)     180003      upsampling2d_1[0][0]             \n",
      "____________________________________________________________________________________________________\n",
      "batchnormalization_2 (BatchNorma (None, 32, 32, 3)     6           convolution2d_1[0][0]            \n",
      "____________________________________________________________________________________________________\n",
      "activation_2 (Activation)        (None, 32, 32, 3)     0           batchnormalization_2[0][0]       \n",
      "____________________________________________________________________________________________________\n",
      "convolution2d_2 (Convolution2D)  (None, 32, 32, 3)     1353        activation_2[0][0]               \n",
      "____________________________________________________________________________________________________\n",
      "batchnormalization_3 (BatchNorma (None, 32, 32, 3)     6           convolution2d_2[0][0]            \n",
      "____________________________________________________________________________________________________\n",
      "upsampling2d_2 (UpSampling2D)    (None, 64, 64, 3)     0           batchnormalization_3[0][0]       \n",
      "____________________________________________________________________________________________________\n",
      "activation_3 (Activation)        (None, 64, 64, 3)     0           upsampling2d_2[0][0]             \n",
      "====================================================================================================\n",
      "Total params: 629480568\n",
      "____________________________________________________________________________________________________\n",
      "____________________________________________________________________________________________________\n",
      "Layer (type)                     Output Shape          Param #     Connected to                     \n",
      "====================================================================================================\n",
      "input_2 (InputLayer)             (None, 64, 64, 3)     0                                            \n",
      "____________________________________________________________________________________________________\n",
      "convolution2d_3 (Convolution2D)  (None, 64, 64, 16)    448         input_2[0][0]                    \n",
      "____________________________________________________________________________________________________\n",
      "convolution2d_4 (Convolution2D)  (None, 64, 64, 16)    2320        convolution2d_3[0][0]            \n",
      "____________________________________________________________________________________________________\n",
      "maxpooling2d_1 (MaxPooling2D)    (None, 32, 32, 16)    0           convolution2d_4[0][0]            \n",
      "____________________________________________________________________________________________________\n",
      "convolution2d_5 (Convolution2D)  (None, 32, 32, 8)     1160        maxpooling2d_1[0][0]             \n",
      "____________________________________________________________________________________________________\n",
      "convolution2d_6 (Convolution2D)  (None, 32, 32, 8)     584         convolution2d_5[0][0]            \n",
      "____________________________________________________________________________________________________\n",
      "dropout_1 (Dropout)              (None, 32, 32, 8)     0           convolution2d_6[0][0]            \n",
      "____________________________________________________________________________________________________\n",
      "maxpooling2d_2 (MaxPooling2D)    (None, 16, 16, 8)     0           dropout_1[0][0]                  \n",
      "____________________________________________________________________________________________________\n",
      "convolution2d_7 (Convolution2D)  (None, 16, 16, 8)     584         maxpooling2d_2[0][0]             \n",
      "____________________________________________________________________________________________________\n",
      "convolution2d_8 (Convolution2D)  (None, 16, 16, 8)     584         convolution2d_7[0][0]            \n",
      "____________________________________________________________________________________________________\n",
      "maxpooling2d_3 (MaxPooling2D)    (None, 8, 8, 8)       0           convolution2d_8[0][0]            \n",
      "____________________________________________________________________________________________________\n",
      "convolution2d_9 (Convolution2D)  (None, 8, 8, 8)       584         maxpooling2d_3[0][0]             \n",
      "____________________________________________________________________________________________________\n",
      "convolution2d_10 (Convolution2D) (None, 8, 8, 8)       584         convolution2d_9[0][0]            \n",
      "____________________________________________________________________________________________________\n",
      "maxpooling2d_4 (MaxPooling2D)    (None, 4, 4, 8)       0           convolution2d_10[0][0]           \n",
      "____________________________________________________________________________________________________\n",
      "flatten_1 (Flatten)              (None, 128)           0           maxpooling2d_4[0][0]             \n",
      "____________________________________________________________________________________________________\n",
      "dense_3 (Dense)                  (None, 256)           33024       flatten_1[0][0]                  \n",
      "____________________________________________________________________________________________________\n",
      "leakyrelu_1 (LeakyReLU)          (None, 256)           0           dense_3[0][0]                    \n",
      "____________________________________________________________________________________________________\n",
      "dense_4 (Dense)                  (None, 2)             514         leakyrelu_1[0][0]                \n",
      "====================================================================================================\n",
      "Total params: 40386\n",
      "____________________________________________________________________________________________________\n",
      "____________________________________________________________________________________________________\n",
      "Layer (type)                     Output Shape          Param #     Connected to                     \n",
      "====================================================================================================\n",
      "input_3 (InputLayer)             (None, 12288)         0                                            \n",
      "____________________________________________________________________________________________________\n",
      "model_1 (Model)                  (None, 64, 64, 3)     629480568   input_3[0][0]                    \n",
      "____________________________________________________________________________________________________\n",
      "model_2 (Model)                  (None, 2)             0           model_1[1][0]                    \n",
      "====================================================================================================\n",
      "Total params: 629480568\n",
      "____________________________________________________________________________________________________\n"
     ]
    }
   ],
   "source": [
    "shp = X_train.shape[1:]\n",
    "print shp\n",
    "\n",
    "dropout_rate = 0.25\n",
    "opt = Adam(lr=1e-3)\n",
    "dopt = Adam(lr=1e-4)\n",
    "nch = 200\n",
    "\n",
    "# Build Generative model ...\n",
    "nch = 200\n",
    "g_input = Input(shape=[12288])\n",
    "x = Dense(100)(g_input)\n",
    "H = Dense(nch*16*16, init='glorot_normal')(g_input)\n",
    "H = BatchNormalization(mode=2)(H)\n",
    "H = Activation('relu')(H)\n",
    "H = Reshape( [16, 16, nch] )(H)\n",
    "H = UpSampling2D(size=(2, 2))(H)\n",
    "H = Convolution2D(3, 3, nch/2, border_mode='same', init='glorot_uniform')(H)\n",
    "H = BatchNormalization(mode=2)(H)\n",
    "H = Activation('relu')(H)\n",
    "H = Convolution2D(3, 3, nch/4, border_mode='same', init='glorot_uniform')(H)\n",
    "H = BatchNormalization(mode=2)(H)\n",
    "H = UpSampling2D(size=(2, 2))(H)\n",
    "g_V = Activation('relu')(H)\n",
    "\n",
    "'''\n",
    "nch = 200\n",
    "g_input = Input(shape=[100])\n",
    "H = Dense(nch*14*14, init='glorot_normal')(g_input)\n",
    "H = BatchNormalization(mode=2)(H)\n",
    "H = Activation('relu')(H)\n",
    "H = Reshape( [nch, 14, 14] )(H)\n",
    "H = UpSampling2D(size=(2, 2))(H)\n",
    "H = Convolution2D(nch/2, 3, 3, border_mode='same', init='glorot_uniform')(H)\n",
    "H = BatchNormalization(mode=2)(H)\n",
    "H = Activation('relu')(H)\n",
    "H = Convolution2D(nch/4, 3, 3, border_mode='same', init='glorot_uniform')(H)\n",
    "H = BatchNormalization(mode=2)(H)\n",
    "H = Activation('relu')(H)\n",
    "H = Convolution2D(1, 1, 1, border_mode='same', init='glorot_uniform')(H)\n",
    "g_V = Activation('sigmoid')(H)\n",
    "'''\n",
    "\n",
    "generator = Model(g_input,g_V)\n",
    "generator.compile(loss='binary_crossentropy', optimizer=opt)\n",
    "generator.summary()\n",
    "\n",
    "\n",
    "# Build Discriminative model ...\n",
    "\n",
    "d_input = Input(shape=(64, 64, 3))\n",
    "\n",
    "x = Convolution2D(16, 3, 3, activation='relu', border_mode='same')(d_input)\n",
    "x = Convolution2D(16, 3, 3, activation='relu', border_mode='same')(x)\n",
    "x = MaxPooling2D((2, 2), border_mode='same')(x)\n",
    "x = Convolution2D(8, 3, 3, activation='relu', border_mode='same')(x)\n",
    "x = Convolution2D(8, 3, 3, activation='relu', border_mode='same')(x)\n",
    "x = Dropout(dropout_rate)(x)\n",
    "x = MaxPooling2D((2, 2), border_mode='same')(x)\n",
    "x = Convolution2D(8, 3, 3, activation='relu', border_mode='same')(x)\n",
    "x = Convolution2D(8, 3, 3, activation='relu', border_mode='same')(x)\n",
    "x = MaxPooling2D((2, 2), border_mode='same')(x)\n",
    "x = Convolution2D(8, 3, 3, activation='relu', border_mode='same')(x)\n",
    "x = Convolution2D(8, 3, 3, activation='relu', border_mode='same')(x)\n",
    "x = MaxPooling2D((2, 2), border_mode='same')(x)\n",
    "x = Flatten()(x)\n",
    "x = Dense(256)(x)\n",
    "x = LeakyReLU(0.2)(x)\n",
    "d_V = Dense(2,activation='softmax')(x)\n",
    "\n",
    "'''\n",
    "d_input = Input(shape=shp)\n",
    "H = Convolution2D(256, 5, 5, subsample=(2, 2), border_mode = 'same', activation='relu')(d_input)\n",
    "H = LeakyReLU(0.2)(H)\n",
    "H = Dropout(dropout_rate)(H)\n",
    "H = Convolution2D(512, 5, 5, subsample=(2, 2), border_mode = 'same', activation='relu')(H)\n",
    "H = LeakyReLU(0.2)(H)\n",
    "H = Dropout(dropout_rate)(H)\n",
    "H = Flatten()(H)\n",
    "H = Dense(256)(H)\n",
    "H = LeakyReLU(0.2)(H)\n",
    "H = Dropout(dropout_rate)(H)\n",
    "d_V = Dense(2,activation='softmax')(H)\n",
    "'''\n",
    "\n",
    "discriminator = Model(d_input,d_V)\n",
    "discriminator.compile(loss='categorical_crossentropy', optimizer=dopt)\n",
    "discriminator.summary()\n",
    "\n",
    "# Freeze weights in the discriminator for stacked training\n",
    "def make_trainable(net, val):\n",
    "    net.trainable = val\n",
    "    for l in net.layers:\n",
    "        l.trainable = val\n",
    "make_trainable(discriminator, False)\n",
    "# Build stacked GAN model\n",
    "gan_input = Input(shape=[12288])\n",
    "H = generator(gan_input)\n",
    "gan_V = discriminator(H)\n",
    "GAN = Model(gan_input, gan_V)\n",
    "GAN.compile(loss='categorical_crossentropy', optimizer=opt)\n",
    "GAN.summary()\n"
   ]
  },
  {
   "cell_type": "code",
   "execution_count": 7,
   "metadata": {
    "collapsed": false
   },
   "outputs": [
    {
     "data": {
      "text/plain": [
       "\"\\nk = Input(shape=(64, 64, 3))\\n\\ny = Convolution2D(16, 3, 3, activation='relu', border_mode='same')(k)\\ny = Convolution2D(16, 3, 3, activation='relu', border_mode='same')(y)\\ny = MaxPooling2D((2, 2), border_mode='same')(y)\\ny = Dropout(dropout_rate)(y)\\ny = Flatten()(y)\\ninput_test = Dense(100)(y)\\n\\nyo = Model(k,input_test)\\nyo.compile(loss='binary_crossentropy', optimizer=opt)\\n\\ny_hat = yo.predict(X_train[1:5])\\nprint y_hat\\n\""
      ]
     },
     "execution_count": 7,
     "metadata": {},
     "output_type": "execute_result"
    }
   ],
   "source": [
    "'''\n",
    "k = Input(shape=(64, 64, 3))\n",
    "\n",
    "y = Convolution2D(16, 3, 3, activation='relu', border_mode='same')(k)\n",
    "y = Convolution2D(16, 3, 3, activation='relu', border_mode='same')(y)\n",
    "y = MaxPooling2D((2, 2), border_mode='same')(y)\n",
    "y = Dropout(dropout_rate)(y)\n",
    "y = Flatten()(y)\n",
    "input_test = Dense(100)(y)\n",
    "\n",
    "yo = Model(k,input_test)\n",
    "yo.compile(loss='binary_crossentropy', optimizer=opt)\n",
    "\n",
    "y_hat = yo.predict(X_train[1:5])\n",
    "print y_hat\n",
    "'''"
   ]
  },
  {
   "cell_type": "code",
   "execution_count": 8,
   "metadata": {
    "collapsed": true
   },
   "outputs": [],
   "source": [
    "def plot_loss(losses):\n",
    "        display.clear_output(wait=True)\n",
    "        display.display(plt.gcf())\n",
    "        plt.figure(figsize=(10,8))\n",
    "        plt.plot(losses[\"d\"], label='discriminitive loss')\n",
    "        plt.plot(losses[\"g\"], label='generative loss')\n",
    "        plt.legend()\n",
    "        plt.show()"
   ]
  },
  {
   "cell_type": "code",
   "execution_count": null,
   "metadata": {
    "collapsed": false
   },
   "outputs": [],
   "source": []
  },
  {
   "cell_type": "code",
   "execution_count": null,
   "metadata": {
    "collapsed": false
   },
   "outputs": [],
   "source": [
    "def plot_gen(n_ex=1,dim=(4,4), figsize=(10,10) ):\n",
    "    noise = np.random.uniform(0,1,size=[n_ex,12288])\n",
    "\n",
    "    #print np.transpose(y_hat[0]).shape\n",
    "    \n",
    "    #generated_images = generator.predict(y_hat[0].reshape((1,100)))\n",
    "    generated_images = generator.predict(noise)\n",
    "\n",
    "    plt.figure(figsize=figsize)\n",
    "    for i in range(generated_images.shape[0]):\n",
    "        plt.subplot(dim[0],dim[1],i+1)\n",
    "        img = generated_images[i]\n",
    "        plt.imshow(img)\n",
    "        plt.axis('off')\n",
    "    plt.tight_layout()\n",
    "    plt.show()\n"
   ]
  },
  {
   "cell_type": "code",
   "execution_count": null,
   "metadata": {
    "collapsed": false
   },
   "outputs": [],
   "source": []
  },
  {
   "cell_type": "code",
   "execution_count": null,
   "metadata": {
    "collapsed": false,
    "scrolled": false
   },
   "outputs": [],
   "source": [
    "'''\n",
    "ntrain = 5000\n",
    "trainidx = random.sample(range(0,X_train.shape[0]), ntrain)\n",
    "print len(trainidx)\n",
    "XT = X_train[trainidx,:,:,:]\n",
    "print len(XT)\n",
    "print XT.shape\n",
    "'''\n",
    "\n",
    "# Pre-train the discriminator network ...\n",
    "noise_gen = np.random.uniform(0,1,size=[X_train.shape[0],12288])\n",
    "generated_images = generator.predict(noise_gen)\n",
    "print generated_images.shape\n",
    "X = np.concatenate((X_train, generated_images))\n",
    "n = X_train.shape[0]\n",
    "y = np.zeros([2*n,2])\n",
    "y[:n,1] = 1\n",
    "y[n:,0] = 1\n",
    "\n",
    "make_trainable(discriminator,True)\n",
    "discriminator.fit(X,y, nb_epoch=1, batch_size=500)\n",
    "y_hat = discriminator.predict(X)"
   ]
  },
  {
   "cell_type": "code",
   "execution_count": null,
   "metadata": {
    "collapsed": false
   },
   "outputs": [],
   "source": [
    "y_hat_idx = np.argmax(y_hat,axis=1)\n",
    "y_idx = np.argmax(y,axis=1)\n",
    "diff = y_idx-y_hat_idx\n",
    "n_tot = y.shape[0]\n",
    "n_rig = (diff==0).sum()\n",
    "acc = n_rig*100.0/n_tot\n",
    "print \"Accuracy: %0.02f pct (%d of %d) right\"%(acc, n_rig, n_tot)"
   ]
  },
  {
   "cell_type": "code",
   "execution_count": null,
   "metadata": {
    "collapsed": true
   },
   "outputs": [],
   "source": [
    "# set up loss storage vector\n",
    "losses = {\"d\":[], \"g\":[]}"
   ]
  },
  {
   "cell_type": "code",
   "execution_count": null,
   "metadata": {
    "collapsed": false
   },
   "outputs": [],
   "source": [
    "def train_for_n(nb_epoch=1, plt_frq=1,BATCH_SIZE=500):\n",
    "\n",
    "    for e in range(nb_epoch):  \n",
    "        \n",
    "        # Make generative images\n",
    "        image_batch = X_train[np.random.randint(0,X_train.shape[0],size=BATCH_SIZE),:,:,:]    \n",
    "        noise_gen = np.random.uniform(0,1,size=[BATCH_SIZE,12288])\n",
    "        generated_images = generator.predict(noise_gen)\n",
    "        \n",
    "        # Train discriminator on generated images\n",
    "        X = np.concatenate((image_batch, generated_images))\n",
    "        y = np.zeros([2*BATCH_SIZE,2])\n",
    "        y[0:BATCH_SIZE,1] = 1\n",
    "        y[BATCH_SIZE:,0] = 1\n",
    "        \n",
    "        make_trainable(discriminator,True)\n",
    "        d_loss  = discriminator.train_on_batch(X,y)\n",
    "        losses[\"d\"].append(d_loss)\n",
    "    \n",
    "        # train Generator-Discriminator stack on input noise to non-generated output class\n",
    "        noise_tr = np.random.uniform(0,1,size=[BATCH_SIZE,12288])\n",
    "        y2 = np.zeros([BATCH_SIZE,2])\n",
    "        y2[:,1] = 1\n",
    "        \n",
    "        make_trainable(discriminator,False)\n",
    "        g_loss = GAN.train_on_batch(noise_tr, y2 )\n",
    "        losses[\"g\"].append(g_loss)\n",
    "        \n",
    "        # Updates plots\n",
    "        if e%plt_frq==plt_frq-1:\n",
    "            plot_loss(losses)\n",
    "            plot_gen()\n",
    "        "
   ]
  },
  {
   "cell_type": "code",
   "execution_count": null,
   "metadata": {
    "collapsed": false,
    "scrolled": false
   },
   "outputs": [],
   "source": []
  },
  {
   "cell_type": "code",
   "execution_count": null,
   "metadata": {
    "collapsed": false
   },
   "outputs": [],
   "source": []
  },
  {
   "cell_type": "code",
   "execution_count": null,
   "metadata": {
    "collapsed": false
   },
   "outputs": [],
   "source": [
    "K.set_value(opt.lr, 1e-5)\n",
    "K.set_value(dopt.lr, 1e-6)\n",
    "train_for_n(nb_epoch=1, plt_frq=1,BATCH_SIZE=50)"
   ]
  },
  {
   "cell_type": "code",
   "execution_count": null,
   "metadata": {
    "collapsed": false
   },
   "outputs": [],
   "source": [
    "plot_loss(losses)"
   ]
  },
  {
   "cell_type": "code",
   "execution_count": null,
   "metadata": {
    "collapsed": false
   },
   "outputs": [],
   "source": []
  },
  {
   "cell_type": "code",
   "execution_count": null,
   "metadata": {
    "collapsed": false
   },
   "outputs": [],
   "source": [
    "plot_gen(1,(4,4),(10,10))"
   ]
  },
  {
   "cell_type": "code",
   "execution_count": null,
   "metadata": {
    "collapsed": false,
    "scrolled": false
   },
   "outputs": [],
   "source": [
    "plot_gen(4,(4,4),(10,10))"
   ]
  },
  {
   "cell_type": "code",
   "execution_count": null,
   "metadata": {
    "collapsed": false
   },
   "outputs": [],
   "source": [
    "def plot_real(n_ex=4,dim=(4,4), figsize=(10,10) ):\n",
    "    \n",
    "    #idx = np.random.randint(0,X_train.shape[0],n_ex)\n",
    "    generated_images = X_train[:4,:,:,:]\n",
    "    print generated_images.shape\n",
    "\n",
    "    plt.figure(figsize=figsize)\n",
    "    for i in range(generated_images.shape[0]):\n",
    "        plt.subplot(dim[0],dim[1],i+1)\n",
    "        img = generated_images[i]\n",
    "        plt.imshow(img)\n",
    "        plt.axis('off')\n",
    "    plt.tight_layout()\n",
    "    plt.show()\n",
    "\n"
   ]
  },
  {
   "cell_type": "code",
   "execution_count": null,
   "metadata": {
    "collapsed": false
   },
   "outputs": [],
   "source": [
    "plot_real()"
   ]
  },
  {
   "cell_type": "code",
   "execution_count": null,
   "metadata": {
    "collapsed": false
   },
   "outputs": [],
   "source": [
    "from sklearn.decomposition import PCA\n",
    "pca = PCA(100) \n",
    "print pca \n",
    "\n",
    "x_flat = X_train[1].reshape(12288)\n",
    "print x_flat.shape\n",
    "X_proj = pca.fit_transform(x_flat)\n",
    "print X_proj\n",
    "print X_proj.shape\n",
    "\n",
    "use more training data"
   ]
  },
  {
   "cell_type": "code",
   "execution_count": null,
   "metadata": {
    "collapsed": true
   },
   "outputs": [],
   "source": []
  },
  {
   "cell_type": "code",
   "execution_count": null,
   "metadata": {
    "collapsed": true
   },
   "outputs": [],
   "source": []
  },
  {
   "cell_type": "code",
   "execution_count": null,
   "metadata": {
    "collapsed": true
   },
   "outputs": [],
   "source": []
  }
 ],
 "metadata": {
  "anaconda-cloud": {},
  "kernelspec": {
   "display_name": "Python [default]",
   "language": "python",
   "name": "python2"
  },
  "language_info": {
   "codemirror_mode": {
    "name": "ipython",
    "version": 2
   },
   "file_extension": ".py",
   "mimetype": "text/x-python",
   "name": "python",
   "nbconvert_exporter": "python",
   "pygments_lexer": "ipython2",
   "version": "2.7.12"
  }
 },
 "nbformat": 4,
 "nbformat_minor": 0
}
